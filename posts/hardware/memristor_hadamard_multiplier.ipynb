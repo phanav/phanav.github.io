{
 "cells": [
  {
   "cell_type": "markdown",
   "metadata": {},
   "source": [
    "---\n",
    "title: \"Memristor Hadamard Multiplier, Compressed vector-matrix multiplication for Memristor-based ensemble neural networks\"\n",
    "author: \"Phan Anh VU\"\n",
    "date: \"12/02/2024\"\n",
    "format:\n",
    "  html:\n",
    "    toc: true\n",
    "categories:\n",
    "  - hardware\n",
    "---"
   ]
  },
  {
   "cell_type": "markdown",
   "metadata": {},
   "source": [
    "Using an ensemble of neural networks is an effective means of quantifying the uncertainty of an output prediction. \n",
    "However, the memory cost of storing a large ensemble of neural networks quickly becomes prohibitive and limits their applicability.\n",
    "This paper details a three-stage in-memory computing circuit that performs analog-domain vector-matrix multiplication between an input voltage vector and a rank-1 compressed weight ensemble stored in the conductances of three Memristor arrays.\n",
    "For wide layers (thousands of neurons) and large ensemble sizes (hundreds to thousands of models), this circuit reduces the required number of Memristors by between two and three orders of magnitude relative to a non-compressed ensemble. Similarly, compared to a single neural network, the increase in the number of Memristors may be less than two-fold. We report SPICE simulations of the circuit and observe that\n",
    "$75\\%$ of total error does not deviate by more than $25\\%$ of the ideal value.\n",
    "A statistical analysis of the circuit explains these observations and offers insights regarding how the circuit may be improved."
   ]
  },
  {
   "cell_type": "markdown",
   "metadata": {},
   "source": []
  }
 ],
 "metadata": {
  "language_info": {
   "name": "python"
  }
 },
 "nbformat": 4,
 "nbformat_minor": 2
}
